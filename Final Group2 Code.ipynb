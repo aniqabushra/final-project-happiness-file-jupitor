{
 "cells": [
  {
   "cell_type": "code",
   "execution_count": 2,
   "metadata": {},
   "outputs": [],
   "source": [
    "import numpy as np\n",
    "import pandas as pd\n",
    "from pandas import ExcelWriter\n",
    "from pandas import ExcelFile\n",
    "from pandas import DataFrame\n",
    "import numpy as np\n",
    "import seaborn as sns\n",
    "import statsmodels.api as sm\n",
    "import matplotlib.pyplot as plt\n",
    "%matplotlib inline"
   ]
  },
  {
   "cell_type": "code",
   "execution_count": 27,
   "metadata": {},
   "outputs": [],
   "source": [
    "location = \"C:/Users/GBTC406008ur/Downloads/Chapter2OnlineData.xls\"\n",
    "dforig = pd.read_excel(location)"
   ]
  },
  {
   "cell_type": "code",
   "execution_count": 28,
   "metadata": {},
   "outputs": [
    {
     "data": {
      "text/plain": [
       "Index(['Country name', 'Region', 'Year', 'Life Ladder', 'Log GDP per capita',\n",
       "       'Social support', 'Healthy life expectancy at birth',\n",
       "       'Freedom to make life choices', 'Generosity',\n",
       "       'Perceptions of corruption', 'Positive affect', 'Negative affect',\n",
       "       'Confidence in national government', 'Democratic Quality',\n",
       "       'Delivery Quality', 'Standard deviation of ladder by country-year',\n",
       "       'Standard deviation/Mean of ladder by country-year',\n",
       "       'GINI index (World Bank estimate)',\n",
       "       'GINI index (World Bank estimate), average 2000-16',\n",
       "       'gini of household income reported in Gallup, by wp5-year',\n",
       "       'Most people can be trusted, Gallup',\n",
       "       'Most people can be trusted, WVS round 1981-1984',\n",
       "       'Most people can be trusted, WVS round 1989-1993',\n",
       "       'Most people can be trusted, WVS round 1994-1998',\n",
       "       'Most people can be trusted, WVS round 1999-2004',\n",
       "       'Most people can be trusted, WVS round 2005-2009',\n",
       "       'Most people can be trusted, WVS round 2010-2014'],\n",
       "      dtype='object')"
      ]
     },
     "execution_count": 28,
     "metadata": {},
     "output_type": "execute_result"
    }
   ],
   "source": [
    "dforig.columns"
   ]
  },
  {
   "cell_type": "code",
   "execution_count": 29,
   "metadata": {},
   "outputs": [],
   "source": [
    "df=dforig.drop('GINI index (World Bank estimate)', axis=1, inplace=True)\n",
    "df=dforig.drop('Most people can be trusted, Gallup', axis=1, inplace=True)\n",
    "df=dforig.drop('Most people can be trusted, WVS round 1981-1984', axis=1, inplace=True)\n",
    "df=dforig.drop('Most people can be trusted, WVS round 1989-1993', axis=1, inplace=True)\n",
    "df=dforig.drop('Most people can be trusted, WVS round 1994-1998', axis=1, inplace=True)\n",
    "df=dforig.drop('Most people can be trusted, WVS round 1999-2004', axis=1, inplace=True)\n",
    "df=dforig.drop('Most people can be trusted, WVS round 2005-2009', axis=1, inplace=True)\n",
    "df=dforig.drop('Most people can be trusted, WVS round 2010-2014', axis=1, inplace=True)\n",
    "df=dforig.drop('gini of household income reported in Gallup, by wp5-year', axis=1, inplace=True)\n",
    "df=dforig.drop('GINI index (World Bank estimate), average 2000-16', axis=1, inplace=True)\n",
    "df=dforig.drop('Standard deviation/Mean of ladder by country-year', axis=1, inplace=True)\n",
    "df=dforig.drop('Standard deviation of ladder by country-year', axis=1, inplace=True)"
   ]
  },
  {
   "cell_type": "code",
   "execution_count": 30,
   "metadata": {},
   "outputs": [],
   "source": [
    "dforig=df"
   ]
  },
  {
   "cell_type": "code",
   "execution_count": 7,
   "metadata": {},
   "outputs": [],
   "source": [
    "location = \"C:/Users/GBTC406008ur/Downloads/Chapter2OnlineData_Copy1.xlsx\"\n",
    "dforig = pd.read_excel(location)"
   ]
  },
  {
   "cell_type": "code",
   "execution_count": 8,
   "metadata": {},
   "outputs": [],
   "source": [
    "dforig[['Region']]=dforig[['Region']].replace(dict.fromkeys(['Argentina','Barbados','Belize','Bolivia','Brazil','Chile','Colombia','Ecuador','El Salvador','Costa Rica','Cuba','Dominican Republic','Guatemala','Guyana','Haiti','Honduras','Jamaica','Nicaragua','Panama','Peru','Paraguay','Uruguay','Venezuela','Mexico','Suriname','Trinidad and Tobago'],'Latin America & Caribbean'))\n",
    "\n",
    "dforig[['Region']]=dforig[['Region']].replace(dict.fromkeys(['Afghanistan','Bangladesh','Bhutan','India','Maldives','Nepal','Pakistan','Sri Lanka'],'South Asia'))\n",
    "\n",
    "dforig[['Region']]=dforig[['Region']].replace(dict.fromkeys(['Canada','United States'],'North America'))\n",
    "\n",
    "dforig[['Region']]=dforig[['Region']].replace(dict.fromkeys(['Australia','Cambodia','China','Hong Kong S.A.R. of China','Indonesia','Japan','Laos','Malaysia','Mongolia','Myanmar','Philippines','Thailand','Vietnam'],'East Asia & Pacific'))\n",
    "\n",
    "dforig[['Region']]=dforig[['Region']].replace(dict.fromkeys(['Algeria','Benin','Botswana','Burkina Faso','Burundi','Cameroon','Central Africa Republic','Chad','Comoros','Congo (Brazzaville)','Congo (Kinshasa)','Ethiopia','Gabon','Gambia','Guinea','Ivory Coast','Kenya','Liberia','Madagascar','Malawi','Mali','Mauritania','Mauritius','Mozambique','Namibia','Niger','Nigeria','Rwanda','Senegal','Sierra Leone','South Africa','Swaziland','Tanzania','Togo','Uganda','Zambia','Zimbabwe'],'Sub-Saharan Africa'))\n",
    "\n",
    "dforig[['Region']]=dforig[['Region']].replace(dict.fromkeys(['Egypt','Iran','Israel','Jordan','Lebanon','Malta','Morocco','Palastinian Territories','Saudi Arabia','Tunisia','United Arab Emirates','Yemen'],'Middle East & North Africa'))\n",
    "\n",
    "dforig[['Region']]=dforig[['Region']].replace(dict.fromkeys(['Albania','Armenia','Austria','Azerbaijan','Belarus','Belgium','Bosnia and Herzegovina','Bulgaria','Croatia','Cyprus','Czech Republic','Denmark','Estonia','Finland','France','Georgia','Germany','Greece','Ireland','Italy','Kazakhstan','Kosovo','Kyrgyzstan','Latvia','Libya','Lithuania','Luxembourg','Macedonia','Moldova','Montenegro','Netherlands','North Cyprus','Norway','Portugal','Romania','Russia','Serbia','Slovakia','Slovenia','Spain','Sweden','Switzerland','Turkey','Turkmenistan','Ukraine','United Kingdom','Uzbekistan'],'Europe & Central Asia'))"
   ]
  },
  {
   "cell_type": "code",
   "execution_count": 9,
   "metadata": {},
   "outputs": [],
   "source": [
    "writer = pd.ExcelWriter('C:/Users/GBTC406008ur/Downloads/Chapter2OnlineData_Copy2.xlsx', \n",
    "engine='xlsxwriter')\n",
    "dforig.to_excel(writer, sheet_name='Sheet1',index=False)\n",
    "writer.save()"
   ]
  },
  {
   "cell_type": "code",
   "execution_count": 3,
   "metadata": {},
   "outputs": [],
   "source": [
    "location = \"C:/Users/GBTC406008ur/Downloads/Chapter2OnlineData_Copy2.xlsx\"\n",
    "dforig = pd.read_excel(location)"
   ]
  },
  {
   "cell_type": "code",
   "execution_count": 4,
   "metadata": {},
   "outputs": [
    {
     "data": {
      "text/plain": [
       "Index(['Unnamed: 0', 'Country Name', 'Region', 'Year', 'Life Ladder',\n",
       "       'Log GDP per capita', 'Social support',\n",
       "       'Healthy life expectancy at birth', 'Freedom to make life choices',\n",
       "       'Generosity', 'Perceptions of corruption', 'Positive affect',\n",
       "       'Negative affect', 'Confidence in national government',\n",
       "       'Democratic Quality', 'Delivery Quality'],\n",
       "      dtype='object')"
      ]
     },
     "execution_count": 4,
     "metadata": {},
     "output_type": "execute_result"
    }
   ],
   "source": [
    "dforig.columns"
   ]
  },
  {
   "cell_type": "code",
   "execution_count": 5,
   "metadata": {},
   "outputs": [
    {
     "data": {
      "text/html": [
       "<div>\n",
       "<style scoped>\n",
       "    .dataframe tbody tr th:only-of-type {\n",
       "        vertical-align: middle;\n",
       "    }\n",
       "\n",
       "    .dataframe tbody tr th {\n",
       "        vertical-align: top;\n",
       "    }\n",
       "\n",
       "    .dataframe thead th {\n",
       "        text-align: right;\n",
       "    }\n",
       "</style>\n",
       "<table border=\"1\" class=\"dataframe\">\n",
       "  <thead>\n",
       "    <tr style=\"text-align: right;\">\n",
       "      <th></th>\n",
       "      <th>Unnamed: 0</th>\n",
       "      <th>Country Name</th>\n",
       "      <th>Region</th>\n",
       "      <th>Year</th>\n",
       "      <th>Life Ladder</th>\n",
       "      <th>Log GDP per capita</th>\n",
       "      <th>Social support</th>\n",
       "      <th>Healthy life expectancy at birth</th>\n",
       "      <th>Freedom to make life choices</th>\n",
       "      <th>Generosity</th>\n",
       "      <th>Perceptions of corruption</th>\n",
       "      <th>Positive affect</th>\n",
       "      <th>Negative affect</th>\n",
       "      <th>Confidence in national government</th>\n",
       "      <th>Democratic Quality</th>\n",
       "      <th>Delivery Quality</th>\n",
       "    </tr>\n",
       "  </thead>\n",
       "  <tbody>\n",
       "    <tr>\n",
       "      <th>0</th>\n",
       "      <td>43</td>\n",
       "      <td>Algeria</td>\n",
       "      <td>Sub-Saharan Africa</td>\n",
       "      <td>2018</td>\n",
       "      <td>5.043086</td>\n",
       "      <td>9.557952</td>\n",
       "      <td>0.798651</td>\n",
       "      <td>65.900002</td>\n",
       "      <td>0.583381</td>\n",
       "      <td>-0.172413</td>\n",
       "      <td>0.758704</td>\n",
       "      <td>0.591043</td>\n",
       "      <td>0.292946</td>\n",
       "      <td>NaN</td>\n",
       "      <td>NaN</td>\n",
       "      <td>NaN</td>\n",
       "    </tr>\n",
       "    <tr>\n",
       "      <th>1</th>\n",
       "      <td>158</td>\n",
       "      <td>Benin</td>\n",
       "      <td>Sub-Saharan Africa</td>\n",
       "      <td>2018</td>\n",
       "      <td>5.819827</td>\n",
       "      <td>7.663907</td>\n",
       "      <td>0.503544</td>\n",
       "      <td>54.299999</td>\n",
       "      <td>0.713264</td>\n",
       "      <td>0.024661</td>\n",
       "      <td>0.746511</td>\n",
       "      <td>0.646655</td>\n",
       "      <td>0.467872</td>\n",
       "      <td>0.639220</td>\n",
       "      <td>NaN</td>\n",
       "      <td>NaN</td>\n",
       "    </tr>\n",
       "    <tr>\n",
       "      <th>2</th>\n",
       "      <td>173</td>\n",
       "      <td>Botswana</td>\n",
       "      <td>Sub-Saharan Africa</td>\n",
       "      <td>2018</td>\n",
       "      <td>3.461366</td>\n",
       "      <td>9.680226</td>\n",
       "      <td>0.794936</td>\n",
       "      <td>58.900002</td>\n",
       "      <td>0.817621</td>\n",
       "      <td>-0.259084</td>\n",
       "      <td>0.806945</td>\n",
       "      <td>0.729643</td>\n",
       "      <td>0.267084</td>\n",
       "      <td>0.718788</td>\n",
       "      <td>NaN</td>\n",
       "      <td>NaN</td>\n",
       "    </tr>\n",
       "    <tr>\n",
       "      <th>3</th>\n",
       "      <td>208</td>\n",
       "      <td>Burkina Faso</td>\n",
       "      <td>Sub-Saharan Africa</td>\n",
       "      <td>2018</td>\n",
       "      <td>4.927236</td>\n",
       "      <td>7.470520</td>\n",
       "      <td>0.664859</td>\n",
       "      <td>53.900002</td>\n",
       "      <td>0.720743</td>\n",
       "      <td>-0.004381</td>\n",
       "      <td>0.757399</td>\n",
       "      <td>0.710884</td>\n",
       "      <td>0.342866</td>\n",
       "      <td>0.622255</td>\n",
       "      <td>NaN</td>\n",
       "      <td>NaN</td>\n",
       "    </tr>\n",
       "    <tr>\n",
       "      <th>4</th>\n",
       "      <td>227</td>\n",
       "      <td>Burundi</td>\n",
       "      <td>Sub-Saharan Africa</td>\n",
       "      <td>2018</td>\n",
       "      <td>3.775283</td>\n",
       "      <td>6.541033</td>\n",
       "      <td>0.484715</td>\n",
       "      <td>53.400002</td>\n",
       "      <td>0.646399</td>\n",
       "      <td>-0.019334</td>\n",
       "      <td>0.598608</td>\n",
       "      <td>0.666442</td>\n",
       "      <td>0.362767</td>\n",
       "      <td>NaN</td>\n",
       "      <td>NaN</td>\n",
       "      <td>NaN</td>\n",
       "    </tr>\n",
       "    <tr>\n",
       "      <th>...</th>\n",
       "      <td>...</td>\n",
       "      <td>...</td>\n",
       "      <td>...</td>\n",
       "      <td>...</td>\n",
       "      <td>...</td>\n",
       "      <td>...</td>\n",
       "      <td>...</td>\n",
       "      <td>...</td>\n",
       "      <td>...</td>\n",
       "      <td>...</td>\n",
       "      <td>...</td>\n",
       "      <td>...</td>\n",
       "      <td>...</td>\n",
       "      <td>...</td>\n",
       "      <td>...</td>\n",
       "      <td>...</td>\n",
       "    </tr>\n",
       "    <tr>\n",
       "      <th>195</th>\n",
       "      <td>605</td>\n",
       "      <td>Bhutan</td>\n",
       "      <td>South Asia</td>\n",
       "      <td>2013</td>\n",
       "      <td>5.569092</td>\n",
       "      <td>8.863728</td>\n",
       "      <td>0.818949</td>\n",
       "      <td>59.599998</td>\n",
       "      <td>0.810201</td>\n",
       "      <td>0.361772</td>\n",
       "      <td>0.802428</td>\n",
       "      <td>0.778723</td>\n",
       "      <td>0.217350</td>\n",
       "      <td>0.979501</td>\n",
       "      <td>0.312921</td>\n",
       "      <td>0.128376</td>\n",
       "    </tr>\n",
       "    <tr>\n",
       "      <th>196</th>\n",
       "      <td>620</td>\n",
       "      <td>Bhutan</td>\n",
       "      <td>South Asia</td>\n",
       "      <td>2014</td>\n",
       "      <td>4.938578</td>\n",
       "      <td>8.904688</td>\n",
       "      <td>0.880342</td>\n",
       "      <td>59.900002</td>\n",
       "      <td>0.834222</td>\n",
       "      <td>0.277092</td>\n",
       "      <td>0.650338</td>\n",
       "      <td>0.858864</td>\n",
       "      <td>0.324098</td>\n",
       "      <td>0.958492</td>\n",
       "      <td>0.482543</td>\n",
       "      <td>0.229389</td>\n",
       "    </tr>\n",
       "    <tr>\n",
       "      <th>197</th>\n",
       "      <td>643</td>\n",
       "      <td>Bhutan</td>\n",
       "      <td>South Asia</td>\n",
       "      <td>2015</td>\n",
       "      <td>5.082129</td>\n",
       "      <td>8.954588</td>\n",
       "      <td>0.847574</td>\n",
       "      <td>60.200001</td>\n",
       "      <td>0.830102</td>\n",
       "      <td>0.286635</td>\n",
       "      <td>0.633956</td>\n",
       "      <td>0.809641</td>\n",
       "      <td>0.311589</td>\n",
       "      <td>0.946393</td>\n",
       "      <td>0.469945</td>\n",
       "      <td>0.309431</td>\n",
       "    </tr>\n",
       "    <tr>\n",
       "      <th>198</th>\n",
       "      <td>484</td>\n",
       "      <td>Bolivia</td>\n",
       "      <td>Latin America &amp; Caribbean</td>\n",
       "      <td>2006</td>\n",
       "      <td>5.373986</td>\n",
       "      <td>8.483932</td>\n",
       "      <td>0.834280</td>\n",
       "      <td>59.000000</td>\n",
       "      <td>0.770135</td>\n",
       "      <td>-0.037933</td>\n",
       "      <td>0.794484</td>\n",
       "      <td>0.739243</td>\n",
       "      <td>0.431945</td>\n",
       "      <td>0.536309</td>\n",
       "      <td>-0.363172</td>\n",
       "      <td>-0.722363</td>\n",
       "    </tr>\n",
       "    <tr>\n",
       "      <th>199</th>\n",
       "      <td>492</td>\n",
       "      <td>Bolivia</td>\n",
       "      <td>Latin America &amp; Caribbean</td>\n",
       "      <td>2007</td>\n",
       "      <td>5.628419</td>\n",
       "      <td>8.511677</td>\n",
       "      <td>0.796136</td>\n",
       "      <td>59.500000</td>\n",
       "      <td>0.779935</td>\n",
       "      <td>0.006815</td>\n",
       "      <td>0.816994</td>\n",
       "      <td>0.771075</td>\n",
       "      <td>0.387786</td>\n",
       "      <td>0.506286</td>\n",
       "      <td>-0.404038</td>\n",
       "      <td>-0.696602</td>\n",
       "    </tr>\n",
       "  </tbody>\n",
       "</table>\n",
       "<p>200 rows × 16 columns</p>\n",
       "</div>"
      ],
      "text/plain": [
       "     Unnamed: 0  Country Name                     Region  Year  Life Ladder  \\\n",
       "0            43       Algeria         Sub-Saharan Africa  2018     5.043086   \n",
       "1           158         Benin         Sub-Saharan Africa  2018     5.819827   \n",
       "2           173      Botswana         Sub-Saharan Africa  2018     3.461366   \n",
       "3           208  Burkina Faso         Sub-Saharan Africa  2018     4.927236   \n",
       "4           227       Burundi         Sub-Saharan Africa  2018     3.775283   \n",
       "..          ...           ...                        ...   ...          ...   \n",
       "195         605        Bhutan                 South Asia  2013     5.569092   \n",
       "196         620        Bhutan                 South Asia  2014     4.938578   \n",
       "197         643        Bhutan                 South Asia  2015     5.082129   \n",
       "198         484       Bolivia  Latin America & Caribbean  2006     5.373986   \n",
       "199         492       Bolivia  Latin America & Caribbean  2007     5.628419   \n",
       "\n",
       "     Log GDP per capita  Social support  Healthy life expectancy at birth  \\\n",
       "0              9.557952        0.798651                         65.900002   \n",
       "1              7.663907        0.503544                         54.299999   \n",
       "2              9.680226        0.794936                         58.900002   \n",
       "3              7.470520        0.664859                         53.900002   \n",
       "4              6.541033        0.484715                         53.400002   \n",
       "..                  ...             ...                               ...   \n",
       "195            8.863728        0.818949                         59.599998   \n",
       "196            8.904688        0.880342                         59.900002   \n",
       "197            8.954588        0.847574                         60.200001   \n",
       "198            8.483932        0.834280                         59.000000   \n",
       "199            8.511677        0.796136                         59.500000   \n",
       "\n",
       "     Freedom to make life choices  Generosity  Perceptions of corruption  \\\n",
       "0                        0.583381   -0.172413                   0.758704   \n",
       "1                        0.713264    0.024661                   0.746511   \n",
       "2                        0.817621   -0.259084                   0.806945   \n",
       "3                        0.720743   -0.004381                   0.757399   \n",
       "4                        0.646399   -0.019334                   0.598608   \n",
       "..                            ...         ...                        ...   \n",
       "195                      0.810201    0.361772                   0.802428   \n",
       "196                      0.834222    0.277092                   0.650338   \n",
       "197                      0.830102    0.286635                   0.633956   \n",
       "198                      0.770135   -0.037933                   0.794484   \n",
       "199                      0.779935    0.006815                   0.816994   \n",
       "\n",
       "     Positive affect  Negative affect  Confidence in national government  \\\n",
       "0           0.591043         0.292946                                NaN   \n",
       "1           0.646655         0.467872                           0.639220   \n",
       "2           0.729643         0.267084                           0.718788   \n",
       "3           0.710884         0.342866                           0.622255   \n",
       "4           0.666442         0.362767                                NaN   \n",
       "..               ...              ...                                ...   \n",
       "195         0.778723         0.217350                           0.979501   \n",
       "196         0.858864         0.324098                           0.958492   \n",
       "197         0.809641         0.311589                           0.946393   \n",
       "198         0.739243         0.431945                           0.536309   \n",
       "199         0.771075         0.387786                           0.506286   \n",
       "\n",
       "     Democratic Quality  Delivery Quality  \n",
       "0                   NaN               NaN  \n",
       "1                   NaN               NaN  \n",
       "2                   NaN               NaN  \n",
       "3                   NaN               NaN  \n",
       "4                   NaN               NaN  \n",
       "..                  ...               ...  \n",
       "195            0.312921          0.128376  \n",
       "196            0.482543          0.229389  \n",
       "197            0.469945          0.309431  \n",
       "198           -0.363172         -0.722363  \n",
       "199           -0.404038         -0.696602  \n",
       "\n",
       "[200 rows x 16 columns]"
      ]
     },
     "execution_count": 5,
     "metadata": {},
     "output_type": "execute_result"
    }
   ],
   "source": [
    "dforig.head(200)"
   ]
  },
  {
   "cell_type": "code",
   "execution_count": 6,
   "metadata": {},
   "outputs": [
    {
     "data": {
      "text/plain": [
       "Unnamed: 0                             0\n",
       "Country Name                           0\n",
       "Region                                 0\n",
       "Year                                   0\n",
       "Life Ladder                            0\n",
       "Log GDP per capita                    28\n",
       "Social support                        13\n",
       "Healthy life expectancy at birth      28\n",
       "Freedom to make life choices          29\n",
       "Generosity                            82\n",
       "Perceptions of corruption             96\n",
       "Positive affect                       19\n",
       "Negative affect                       13\n",
       "Confidence in national government    174\n",
       "Democratic Quality                   146\n",
       "Delivery Quality                     145\n",
       "dtype: int64"
      ]
     },
     "execution_count": 6,
     "metadata": {},
     "output_type": "execute_result"
    }
   ],
   "source": [
    "dforig.isnull().sum()"
   ]
  },
  {
   "cell_type": "code",
   "execution_count": 7,
   "metadata": {},
   "outputs": [],
   "source": [
    "df=dforig"
   ]
  },
  {
   "cell_type": "code",
   "execution_count": 8,
   "metadata": {},
   "outputs": [],
   "source": [
    "df[\"Social support\"].fillna(df.groupby(['Region'])['Social support'].transform('mean'), inplace=True)"
   ]
  },
  {
   "cell_type": "code",
   "execution_count": 9,
   "metadata": {},
   "outputs": [],
   "source": [
    "df[\"Log GDP per capita\"].fillna(df.groupby(['Region'])['Log GDP per capita'].transform('mean'), inplace=True)"
   ]
  },
  {
   "cell_type": "code",
   "execution_count": 10,
   "metadata": {},
   "outputs": [],
   "source": [
    "df[\"Healthy life expectancy at birth\"].fillna(df.groupby(['Region'])['Healthy life expectancy at birth'].transform('mean'), inplace=True)"
   ]
  },
  {
   "cell_type": "code",
   "execution_count": 11,
   "metadata": {},
   "outputs": [],
   "source": [
    "df[\"Freedom to make life choices\"].fillna(df.groupby(['Region'])['Freedom to make life choices'].transform('mean'), inplace=True)"
   ]
  },
  {
   "cell_type": "code",
   "execution_count": 12,
   "metadata": {},
   "outputs": [],
   "source": [
    "df[\"Generosity\"].fillna(df.groupby(['Region'])['Generosity'].transform('mean'), inplace=True)"
   ]
  },
  {
   "cell_type": "code",
   "execution_count": 13,
   "metadata": {},
   "outputs": [],
   "source": [
    "df[\"Perceptions of corruption\"].fillna(df.groupby(['Region'])['Perceptions of corruption'].transform('mean'), inplace=True)"
   ]
  },
  {
   "cell_type": "code",
   "execution_count": 14,
   "metadata": {},
   "outputs": [],
   "source": [
    "df[\"Positive affect\"].fillna(df.groupby(['Region'])['Positive affect'].transform('mean'), inplace=True)"
   ]
  },
  {
   "cell_type": "code",
   "execution_count": 15,
   "metadata": {},
   "outputs": [],
   "source": [
    "df[\"Negative affect\"].fillna(df.groupby(['Region'])['Negative affect'].transform('mean'), inplace=True)"
   ]
  },
  {
   "cell_type": "code",
   "execution_count": 16,
   "metadata": {},
   "outputs": [],
   "source": [
    "df[\"Confidence in national government\"].fillna(df.groupby(['Region'])['Confidence in national government'].transform('mean'), inplace=True)"
   ]
  },
  {
   "cell_type": "code",
   "execution_count": 17,
   "metadata": {},
   "outputs": [],
   "source": [
    "df[\"Democratic Quality\"].fillna(df.groupby(['Region'])['Democratic Quality'].transform('mean'), inplace=True)"
   ]
  },
  {
   "cell_type": "code",
   "execution_count": 18,
   "metadata": {},
   "outputs": [],
   "source": [
    "df[\"Delivery Quality\"].fillna(df.groupby(['Region'])['Delivery Quality'].transform('mean'), inplace=True)"
   ]
  },
  {
   "cell_type": "code",
   "execution_count": 19,
   "metadata": {},
   "outputs": [
    {
     "data": {
      "text/plain": [
       "Unnamed: 0                           0\n",
       "Country Name                         0\n",
       "Region                               0\n",
       "Year                                 0\n",
       "Life Ladder                          0\n",
       "Log GDP per capita                   0\n",
       "Social support                       0\n",
       "Healthy life expectancy at birth     0\n",
       "Freedom to make life choices         0\n",
       "Generosity                           0\n",
       "Perceptions of corruption            0\n",
       "Positive affect                      0\n",
       "Negative affect                      0\n",
       "Confidence in national government    0\n",
       "Democratic Quality                   0\n",
       "Delivery Quality                     0\n",
       "dtype: int64"
      ]
     },
     "execution_count": 19,
     "metadata": {},
     "output_type": "execute_result"
    }
   ],
   "source": [
    "df.isnull().sum()"
   ]
  },
  {
   "cell_type": "code",
   "execution_count": 22,
   "metadata": {},
   "outputs": [],
   "source": [
    "writer = pd.ExcelWriter('C:/Users/GBTC406008ur/Downloads/Chapter2OnlineData_Copy3.xlsx', \n",
    "engine='xlsxwriter')\n",
    "df.to_excel(writer, sheet_name='Sheet1',index=False)\n",
    "writer.save()"
   ]
  },
  {
   "cell_type": "code",
   "execution_count": 6,
   "metadata": {},
   "outputs": [],
   "source": [
    "location = \"C:/Users/GBTC406008ur/Downloads/Chapter2OnlineData_Copy3.xlsx\"\n",
    "df = pd.read_excel(location)"
   ]
  },
  {
   "cell_type": "code",
   "execution_count": 7,
   "metadata": {},
   "outputs": [
    {
     "data": {
      "text/html": [
       "<div>\n",
       "<style scoped>\n",
       "    .dataframe tbody tr th:only-of-type {\n",
       "        vertical-align: middle;\n",
       "    }\n",
       "\n",
       "    .dataframe tbody tr th {\n",
       "        vertical-align: top;\n",
       "    }\n",
       "\n",
       "    .dataframe thead th {\n",
       "        text-align: right;\n",
       "    }\n",
       "</style>\n",
       "<table border=\"1\" class=\"dataframe\">\n",
       "  <thead>\n",
       "    <tr style=\"text-align: right;\">\n",
       "      <th></th>\n",
       "      <th>Country Name</th>\n",
       "      <th>Region</th>\n",
       "      <th>Year</th>\n",
       "      <th>Life Ladder</th>\n",
       "      <th>Log GDP per capita</th>\n",
       "      <th>Perceptions of corruption</th>\n",
       "      <th>Confidence in national government</th>\n",
       "      <th>Delivery Quality</th>\n",
       "    </tr>\n",
       "  </thead>\n",
       "  <tbody>\n",
       "    <tr>\n",
       "      <th>510</th>\n",
       "      <td>Finland</td>\n",
       "      <td>Europe &amp; Central Asia</td>\n",
       "      <td>2015</td>\n",
       "      <td>7.447926</td>\n",
       "      <td>10.569822</td>\n",
       "      <td>0.223370</td>\n",
       "      <td>0.557600</td>\n",
       "      <td>1.997027</td>\n",
       "    </tr>\n",
       "    <tr>\n",
       "      <th>511</th>\n",
       "      <td>Finland</td>\n",
       "      <td>Europe &amp; Central Asia</td>\n",
       "      <td>2014</td>\n",
       "      <td>7.384571</td>\n",
       "      <td>10.571767</td>\n",
       "      <td>0.265480</td>\n",
       "      <td>0.468559</td>\n",
       "      <td>2.037090</td>\n",
       "    </tr>\n",
       "    <tr>\n",
       "      <th>512</th>\n",
       "      <td>Finland</td>\n",
       "      <td>Europe &amp; Central Asia</td>\n",
       "      <td>2013</td>\n",
       "      <td>7.444636</td>\n",
       "      <td>10.582239</td>\n",
       "      <td>0.305770</td>\n",
       "      <td>0.420594</td>\n",
       "      <td>2.041154</td>\n",
       "    </tr>\n",
       "    <tr>\n",
       "      <th>513</th>\n",
       "      <td>Finland</td>\n",
       "      <td>Europe &amp; Central Asia</td>\n",
       "      <td>2016</td>\n",
       "      <td>7.659843</td>\n",
       "      <td>10.588078</td>\n",
       "      <td>0.249660</td>\n",
       "      <td>0.485727</td>\n",
       "      <td>1.975339</td>\n",
       "    </tr>\n",
       "    <tr>\n",
       "      <th>514</th>\n",
       "      <td>Finland</td>\n",
       "      <td>Europe &amp; Central Asia</td>\n",
       "      <td>2010</td>\n",
       "      <td>7.393264</td>\n",
       "      <td>10.592831</td>\n",
       "      <td>0.412516</td>\n",
       "      <td>0.461844</td>\n",
       "      <td>2.058373</td>\n",
       "    </tr>\n",
       "  </tbody>\n",
       "</table>\n",
       "</div>"
      ],
      "text/plain": [
       "    Country Name                 Region  Year  Life Ladder  \\\n",
       "510      Finland  Europe & Central Asia  2015     7.447926   \n",
       "511      Finland  Europe & Central Asia  2014     7.384571   \n",
       "512      Finland  Europe & Central Asia  2013     7.444636   \n",
       "513      Finland  Europe & Central Asia  2016     7.659843   \n",
       "514      Finland  Europe & Central Asia  2010     7.393264   \n",
       "\n",
       "     Log GDP per capita  Perceptions of corruption  \\\n",
       "510           10.569822                   0.223370   \n",
       "511           10.571767                   0.265480   \n",
       "512           10.582239                   0.305770   \n",
       "513           10.588078                   0.249660   \n",
       "514           10.592831                   0.412516   \n",
       "\n",
       "     Confidence in national government  Delivery Quality  \n",
       "510                           0.557600          1.997027  \n",
       "511                           0.468559          2.037090  \n",
       "512                           0.420594          2.041154  \n",
       "513                           0.485727          1.975339  \n",
       "514                           0.461844          2.058373  "
      ]
     },
     "execution_count": 7,
     "metadata": {},
     "output_type": "execute_result"
    }
   ],
   "source": [
    "df = pd.DataFrame(data=df, columns=['Country Name','Region','Year','Life Ladder','Log GDP per capita','Perceptions of corruption','Confidence in national government', 'Delivery Quality'])\n",
    "\n",
    "dfna = df[df['Region']=='North America']\n",
    "dfusa = df[df['Country Name']=='United States']\n",
    "dffin = df[df['Country Name']=='Finland']\n",
    "\n",
    "dfusa2008 = dfusa[dfusa['Year']==2008]\n",
    "dfusa2018 = dfusa[dfusa['Year']==2018]\n",
    "\n",
    "dfca = dfna[dfna['Country Name']=='Canada']\n",
    "dfca2008 = dfca[dfca['Year']==2008]\n",
    "dfca2018 = dfca[dfca['Year']==2018]\n",
    "\n",
    "dffin.head()"
   ]
  },
  {
   "cell_type": "code",
   "execution_count": 8,
   "metadata": {},
   "outputs": [
    {
     "name": "stdout",
     "output_type": "stream",
     "text": [
      "                            OLS Regression Results                            \n",
      "==============================================================================\n",
      "Dep. Variable:            Life Ladder   R-squared:                       0.642\n",
      "Model:                            OLS   Adj. R-squared:                  0.641\n",
      "Method:                 Least Squares   F-statistic:                     762.2\n",
      "Date:                Fri, 28 Feb 2020   Prob (F-statistic):               0.00\n",
      "Time:                        09:38:14   Log-Likelihood:                -1736.6\n",
      "No. Observations:                1704   AIC:                             3483.\n",
      "Df Residuals:                    1699   BIC:                             3511.\n",
      "Df Model:                           4                                         \n",
      "Covariance Type:            nonrobust                                         \n",
      "=====================================================================================================\n",
      "                                        coef    std err          t      P>|t|      [0.025      0.975]\n",
      "-----------------------------------------------------------------------------------------------------\n",
      "const                                 1.3127      0.247      5.304      0.000       0.827       1.798\n",
      "Log GDP per capita                    0.5494      0.022     25.226      0.000       0.507       0.592\n",
      "Perceptions of corruption            -1.0418      0.120     -8.687      0.000      -1.277      -0.807\n",
      "Confidence in national government    -0.3306      0.106     -3.111      0.002      -0.539      -0.122\n",
      "Delivery Quality                      0.2045      0.029      7.069      0.000       0.148       0.261\n",
      "==============================================================================\n",
      "Omnibus:                       23.128   Durbin-Watson:                   0.819\n",
      "Prob(Omnibus):                  0.000   Jarque-Bera (JB):               24.928\n",
      "Skew:                          -0.246   Prob(JB):                     3.86e-06\n",
      "Kurtosis:                       3.329   Cond. No.                         153.\n",
      "==============================================================================\n",
      "\n",
      "Warnings:\n",
      "[1] Standard Errors assume that the covariance matrix of the errors is correctly specified.\n"
     ]
    }
   ],
   "source": [
    "dfglobal = DataFrame(df,columns=['Life Ladder','Log GDP per capita','Perceptions of corruption','Confidence in national government', 'Delivery Quality'])\n",
    "X = dfglobal[['Log GDP per capita','Perceptions of corruption','Confidence in national government', 'Delivery Quality']]\n",
    "Y = dfglobal['Life Ladder']\n",
    "X = sm.add_constant(X)\n",
    "\n",
    "model = sm.OLS(Y,X).fit()\n",
    "predictions = model.predict(X)\n",
    "\n",
    "print_model = model.summary()\n",
    "print (print_model)"
   ]
  },
  {
   "cell_type": "code",
   "execution_count": 9,
   "metadata": {},
   "outputs": [
    {
     "name": "stdout",
     "output_type": "stream",
     "text": [
      "                            OLS Regression Results                            \n",
      "==============================================================================\n",
      "Dep. Variable:            Life Ladder   R-squared:                       0.660\n",
      "Model:                            OLS   Adj. R-squared:                  0.595\n",
      "Method:                 Least Squares   F-statistic:                     10.18\n",
      "Date:                Fri, 28 Feb 2020   Prob (F-statistic):           9.60e-05\n",
      "Time:                        09:38:15   Log-Likelihood:                 16.014\n",
      "No. Observations:                  26   AIC:                            -22.03\n",
      "Df Residuals:                      21   BIC:                            -15.74\n",
      "Df Model:                           4                                         \n",
      "Covariance Type:            nonrobust                                         \n",
      "=====================================================================================================\n",
      "                                        coef    std err          t      P>|t|      [0.025      0.975]\n",
      "-----------------------------------------------------------------------------------------------------\n",
      "const                                26.1930      6.896      3.798      0.001      11.852      40.534\n",
      "Log GDP per capita                   -1.7500      0.647     -2.704      0.013      -3.096      -0.404\n",
      "Perceptions of corruption            -0.0645      0.930     -0.069      0.945      -1.999       1.870\n",
      "Confidence in national government    -0.0765      0.629     -0.122      0.904      -1.385       1.232\n",
      "Delivery Quality                     -0.0280      0.482     -0.058      0.954      -1.029       0.973\n",
      "==============================================================================\n",
      "Omnibus:                        7.578   Durbin-Watson:                   1.700\n",
      "Prob(Omnibus):                  0.023   Jarque-Bera (JB):                5.689\n",
      "Skew:                           0.875   Prob(JB):                       0.0582\n",
      "Kurtosis:                       4.480   Cond. No.                     2.66e+03\n",
      "==============================================================================\n",
      "\n",
      "Warnings:\n",
      "[1] Standard Errors assume that the covariance matrix of the errors is correctly specified.\n",
      "[2] The condition number is large, 2.66e+03. This might indicate that there are\n",
      "strong multicollinearity or other numerical problems.\n"
     ]
    }
   ],
   "source": [
    "dfglobal_na = DataFrame(dfna,columns=['Life Ladder','Log GDP per capita','Perceptions of corruption','Confidence in national government', 'Delivery Quality'])\n",
    "X = dfglobal_na[['Log GDP per capita','Perceptions of corruption','Confidence in national government', 'Delivery Quality']]\n",
    "Y = dfglobal_na['Life Ladder']\n",
    "X = sm.add_constant(X)\n",
    "\n",
    "model = sm.OLS(Y,X).fit()\n",
    "predictions = model.predict(X)\n",
    "\n",
    "print_model = model.summary()\n",
    "print (print_model)"
   ]
  },
  {
   "cell_type": "code",
   "execution_count": 10,
   "metadata": {},
   "outputs": [
    {
     "name": "stdout",
     "output_type": "stream",
     "text": [
      "                            OLS Regression Results                            \n",
      "==============================================================================\n",
      "Dep. Variable:            Life Ladder   R-squared:                       0.583\n",
      "Model:                            OLS   Adj. R-squared:                  0.375\n",
      "Method:                 Least Squares   F-statistic:                     2.799\n",
      "Date:                Fri, 28 Feb 2020   Prob (F-statistic):              0.101\n",
      "Time:                        09:38:15   Log-Likelihood:                 14.383\n",
      "No. Observations:                  13   AIC:                            -18.77\n",
      "Df Residuals:                       8   BIC:                            -15.94\n",
      "Df Model:                           4                                         \n",
      "Covariance Type:            nonrobust                                         \n",
      "=====================================================================================================\n",
      "                                        coef    std err          t      P>|t|      [0.025      0.975]\n",
      "-----------------------------------------------------------------------------------------------------\n",
      "const                                35.2581     12.212      2.887      0.020       7.098      63.418\n",
      "Log GDP per capita                   -2.6587      1.102     -2.412      0.042      -5.201      -0.117\n",
      "Perceptions of corruption            -1.2926      1.171     -1.104      0.302      -3.993       1.408\n",
      "Confidence in national government    -0.5642      0.716     -0.788      0.453      -2.215       1.087\n",
      "Delivery Quality                      0.7429      0.582      1.277      0.238      -0.599       2.085\n",
      "==============================================================================\n",
      "Omnibus:                        0.067   Durbin-Watson:                   2.925\n",
      "Prob(Omnibus):                  0.967   Jarque-Bera (JB):                0.298\n",
      "Skew:                           0.002   Prob(JB):                        0.862\n",
      "Kurtosis:                       2.258   Cond. No.                     4.71e+03\n",
      "==============================================================================\n",
      "\n",
      "Warnings:\n",
      "[1] Standard Errors assume that the covariance matrix of the errors is correctly specified.\n",
      "[2] The condition number is large, 4.71e+03. This might indicate that there are\n",
      "strong multicollinearity or other numerical problems.\n"
     ]
    },
    {
     "name": "stderr",
     "output_type": "stream",
     "text": [
      "C:\\ProgramData\\Anaconda3\\lib\\site-packages\\scipy\\stats\\stats.py:1535: UserWarning: kurtosistest only valid for n>=20 ... continuing anyway, n=13\n",
      "  \"anyway, n=%i\" % int(n))\n"
     ]
    }
   ],
   "source": [
    "dfglobal_ca = DataFrame(dfca,columns=['Life Ladder','Log GDP per capita','Perceptions of corruption','Confidence in national government', 'Delivery Quality'])\n",
    "X = dfglobal_ca[['Log GDP per capita','Perceptions of corruption','Confidence in national government', 'Delivery Quality']]\n",
    "Y = dfglobal_ca['Life Ladder']\n",
    "X = sm.add_constant(X)\n",
    "\n",
    "model = sm.OLS(Y,X).fit()\n",
    "predictions = model.predict(X)\n",
    "\n",
    "print_model = model.summary()\n",
    "print (print_model)"
   ]
  },
  {
   "cell_type": "code",
   "execution_count": 11,
   "metadata": {},
   "outputs": [
    {
     "name": "stdout",
     "output_type": "stream",
     "text": [
      "                            OLS Regression Results                            \n",
      "==============================================================================\n",
      "Dep. Variable:            Life Ladder   R-squared:                       0.012\n",
      "Model:                            OLS   Adj. R-squared:                 -0.078\n",
      "Method:                 Least Squares   F-statistic:                    0.1344\n",
      "Date:                Fri, 28 Feb 2020   Prob (F-statistic):              0.721\n",
      "Time:                        09:38:22   Log-Likelihood:                 8.7733\n",
      "No. Observations:                  13   AIC:                            -13.55\n",
      "Df Residuals:                      11   BIC:                            -12.42\n",
      "Df Model:                           1                                         \n",
      "Covariance Type:            nonrobust                                         \n",
      "=============================================================================================\n",
      "                                coef    std err          t      P>|t|      [0.025      0.975]\n",
      "---------------------------------------------------------------------------------------------\n",
      "const                         7.2770      0.402     18.080      0.000       6.391       8.163\n",
      "Perceptions of corruption     0.3540      0.966      0.367      0.721      -1.771       2.479\n",
      "==============================================================================\n",
      "Omnibus:                        0.061   Durbin-Watson:                   2.211\n",
      "Prob(Omnibus):                  0.970   Jarque-Bera (JB):                0.117\n",
      "Skew:                          -0.073   Prob(JB):                        0.943\n",
      "Kurtosis:                       2.559   Cond. No.                         30.5\n",
      "==============================================================================\n",
      "\n",
      "Warnings:\n",
      "[1] Standard Errors assume that the covariance matrix of the errors is correctly specified.\n"
     ]
    },
    {
     "data": {
      "text/plain": [
       "<seaborn.axisgrid.FacetGrid at 0x131124cc048>"
      ]
     },
     "execution_count": 11,
     "metadata": {},
     "output_type": "execute_result"
    },
    {
     "data": {
      "image/png": "[encoded data removed]",
      "text/plain": [
       "<Figure size 360x360 with 1 Axes>"
      ]
     },
     "metadata": {
      "needs_background": "light"
     },
     "output_type": "display_data"
    }
   ],
   "source": [
    "dfglobal_ca = DataFrame(dfca,columns=['Life Ladder','Log GDP per capita','Perceptions of corruption','Confidence in national government', 'Delivery Quality'])\n",
    "X = dfglobal_ca['Perceptions of corruption']\n",
    "Y = dfglobal_ca['Life Ladder']\n",
    "X = sm.add_constant(X)\n",
    "\n",
    "\n",
    "model = sm.OLS(Y,X).fit()\n",
    "predictions = model.predict(X)\n",
    "\n",
    "print_model = model.summary()\n",
    "print (print_model)\n",
    "\n",
    "sns.lmplot(x='Perceptions of corruption',y='Life Ladder',data=dfglobal_ca,fit_reg=True)"
   ]
  },
  {
   "cell_type": "code",
   "execution_count": 12,
   "metadata": {},
   "outputs": [
    {
     "name": "stderr",
     "output_type": "stream",
     "text": [
      "C:\\ProgramData\\Anaconda3\\lib\\site-packages\\scipy\\stats\\stats.py:1535: UserWarning: kurtosistest only valid for n>=20 ... continuing anyway, n=13\n",
      "  \"anyway, n=%i\" % int(n))\n"
     ]
    },
    {
     "name": "stdout",
     "output_type": "stream",
     "text": [
      "                            OLS Regression Results                            \n",
      "==============================================================================\n",
      "Dep. Variable:            Life Ladder   R-squared:                       0.189\n",
      "Model:                            OLS   Adj. R-squared:                  0.116\n",
      "Method:                 Least Squares   F-statistic:                     2.569\n",
      "Date:                Fri, 28 Feb 2020   Prob (F-statistic):              0.137\n",
      "Time:                        09:38:25   Log-Likelihood:                 10.059\n",
      "No. Observations:                  13   AIC:                            -16.12\n",
      "Df Residuals:                      11   BIC:                            -14.99\n",
      "Df Model:                           1                                         \n",
      "Covariance Type:            nonrobust                                         \n",
      "====================================================================================\n",
      "                       coef    std err          t      P>|t|      [0.025      0.975]\n",
      "------------------------------------------------------------------------------------\n",
      "const                5.5546      1.167      4.761      0.001       2.987       8.123\n",
      "Delivery Quality     1.0388      0.648      1.603      0.137      -0.388       2.465\n",
      "==============================================================================\n",
      "Omnibus:                        0.147   Durbin-Watson:                   1.835\n",
      "Prob(Omnibus):                  0.929   Jarque-Bera (JB):                0.162\n",
      "Skew:                          -0.166   Prob(JB):                        0.922\n",
      "Kurtosis:                       2.565   Cond. No.                         81.7\n",
      "==============================================================================\n",
      "\n",
      "Warnings:\n",
      "[1] Standard Errors assume that the covariance matrix of the errors is correctly specified.\n"
     ]
    },
    {
     "data": {
      "text/plain": [
       "<seaborn.axisgrid.FacetGrid at 0x131125cc608>"
      ]
     },
     "execution_count": 12,
     "metadata": {},
     "output_type": "execute_result"
    },
    {
     "data": {
      "image/png": "[encoded data removed]",
      "text/plain": [
       "<Figure size 360x360 with 1 Axes>"
      ]
     },
     "metadata": {
      "needs_background": "light"
     },
     "output_type": "display_data"
    }
   ],
   "source": [
    "dfglobal_ca = DataFrame(dfca,columns=['Life Ladder','Log GDP per capita','Perceptions of corruption','Confidence in national government', 'Delivery Quality'])\n",
    "X = dfglobal_ca['Delivery Quality']\n",
    "Y = dfglobal_ca['Life Ladder']\n",
    "X = sm.add_constant(X)\n",
    "\n",
    "\n",
    "model = sm.OLS(Y,X).fit()\n",
    "predictions = model.predict(X)\n",
    "\n",
    "print_model = model.summary()\n",
    "print (print_model)\n",
    "\n",
    "sns.lmplot(x='Delivery Quality',y='Life Ladder',data=dfglobal_ca,fit_reg=True)"
   ]
  },
  {
   "cell_type": "code",
   "execution_count": 13,
   "metadata": {},
   "outputs": [
    {
     "name": "stdout",
     "output_type": "stream",
     "text": [
      "                            OLS Regression Results                            \n",
      "==============================================================================\n",
      "Dep. Variable:            Life Ladder   R-squared:                       0.760\n",
      "Model:                            OLS   Adj. R-squared:                  0.640\n",
      "Method:                 Least Squares   F-statistic:                     6.342\n",
      "Date:                Fri, 28 Feb 2020   Prob (F-statistic):             0.0133\n",
      "Time:                        09:38:31   Log-Likelihood:                 12.706\n",
      "No. Observations:                  13   AIC:                            -15.41\n",
      "Df Residuals:                       8   BIC:                            -12.59\n",
      "Df Model:                           4                                         \n",
      "Covariance Type:            nonrobust                                         \n",
      "=====================================================================================================\n",
      "                                        coef    std err          t      P>|t|      [0.025      0.975]\n",
      "-----------------------------------------------------------------------------------------------------\n",
      "const                                60.2505     14.125      4.266      0.003      27.679      92.822\n",
      "Log GDP per capita                   -4.4258      1.328     -3.332      0.010      -7.489      -1.363\n",
      "Perceptions of corruption            -6.0826      1.930     -3.151      0.014     -10.534      -1.631\n",
      "Confidence in national government    -3.0407      1.017     -2.989      0.017      -5.386      -0.695\n",
      "Delivery Quality                      0.1418      0.718      0.197      0.848      -1.515       1.799\n",
      "==============================================================================\n",
      "Omnibus:                        0.320   Durbin-Watson:                   1.582\n",
      "Prob(Omnibus):                  0.852   Jarque-Bera (JB):                0.287\n",
      "Skew:                           0.280   Prob(JB):                        0.866\n",
      "Kurtosis:                       2.534   Cond. No.                     4.86e+03\n",
      "==============================================================================\n",
      "\n",
      "Warnings:\n",
      "[1] Standard Errors assume that the covariance matrix of the errors is correctly specified.\n",
      "[2] The condition number is large, 4.86e+03. This might indicate that there are\n",
      "strong multicollinearity or other numerical problems.\n"
     ]
    },
    {
     "name": "stderr",
     "output_type": "stream",
     "text": [
      "C:\\ProgramData\\Anaconda3\\lib\\site-packages\\scipy\\stats\\stats.py:1535: UserWarning: kurtosistest only valid for n>=20 ... continuing anyway, n=13\n",
      "  \"anyway, n=%i\" % int(n))\n"
     ]
    }
   ],
   "source": [
    "dfglobal_usa = DataFrame(dfusa,columns=['Life Ladder','Log GDP per capita','Perceptions of corruption','Confidence in national government', 'Delivery Quality'])\n",
    "X = dfglobal_usa[['Log GDP per capita','Perceptions of corruption','Confidence in national government', 'Delivery Quality']]\n",
    "Y = dfglobal_usa['Life Ladder']\n",
    "X = sm.add_constant(X)\n",
    "\n",
    "model = sm.OLS(Y,X).fit()\n",
    "predictions = model.predict(X)\n",
    "\n",
    "print_model = model.summary()\n",
    "print (print_model)"
   ]
  },
  {
   "cell_type": "code",
   "execution_count": 14,
   "metadata": {},
   "outputs": [
    {
     "name": "stdout",
     "output_type": "stream",
     "text": [
      "                            OLS Regression Results                            \n",
      "==============================================================================\n",
      "Dep. Variable:            Life Ladder   R-squared:                       0.268\n",
      "Model:                            OLS   Adj. R-squared:                  0.201\n",
      "Method:                 Least Squares   F-statistic:                     4.027\n",
      "Date:                Fri, 28 Feb 2020   Prob (F-statistic):             0.0700\n",
      "Time:                        09:38:34   Log-Likelihood:                 5.4503\n",
      "No. Observations:                  13   AIC:                            -6.901\n",
      "Df Residuals:                      11   BIC:                            -5.771\n",
      "Df Model:                           1                                         \n",
      "Covariance Type:            nonrobust                                         \n",
      "=============================================================================================\n",
      "                                coef    std err          t      P>|t|      [0.025      0.975]\n",
      "---------------------------------------------------------------------------------------------\n",
      "const                         8.8355      0.863     10.237      0.000       6.936      10.735\n",
      "Perceptions of corruption    -2.5145      1.253     -2.007      0.070      -5.273       0.244\n",
      "==============================================================================\n",
      "Omnibus:                        0.926   Durbin-Watson:                   1.129\n",
      "Prob(Omnibus):                  0.629   Jarque-Bera (JB):                0.810\n",
      "Skew:                           0.413   Prob(JB):                        0.667\n",
      "Kurtosis:                       2.097   Cond. No.                         38.5\n",
      "==============================================================================\n",
      "\n",
      "Warnings:\n",
      "[1] Standard Errors assume that the covariance matrix of the errors is correctly specified.\n"
     ]
    },
    {
     "data": {
      "text/plain": [
       "<seaborn.axisgrid.FacetGrid at 0x13112652bc8>"
      ]
     },
     "execution_count": 14,
     "metadata": {},
     "output_type": "execute_result"
    },
    {
     "data": {
      "image/png": "[encoded data removed]",
      "text/plain": [
       "<Figure size 360x360 with 1 Axes>"
      ]
     },
     "metadata": {
      "needs_background": "light"
     },
     "output_type": "display_data"
    }
   ],
   "source": [
    "dfglobal_usa = DataFrame(dfusa,columns=['Life Ladder','Log GDP per capita','Perceptions of corruption','Confidence in national government', 'Delivery Quality'])\n",
    "X = dfglobal_usa['Perceptions of corruption']\n",
    "Y = dfglobal_usa['Life Ladder']\n",
    "X = sm.add_constant(X)\n",
    "\n",
    "\n",
    "model = sm.OLS(Y,X).fit()\n",
    "predictions = model.predict(X)\n",
    "\n",
    "print_model = model.summary()\n",
    "print (print_model)\n",
    "\n",
    "sns.lmplot(x='Perceptions of corruption',y='Life Ladder',data=dfglobal_usa,fit_reg=True)"
   ]
  },
  {
   "cell_type": "code",
   "execution_count": 15,
   "metadata": {},
   "outputs": [
    {
     "name": "stderr",
     "output_type": "stream",
     "text": [
      "C:\\ProgramData\\Anaconda3\\lib\\site-packages\\scipy\\stats\\stats.py:1535: UserWarning: kurtosistest only valid for n>=20 ... continuing anyway, n=13\n",
      "  \"anyway, n=%i\" % int(n))\n"
     ]
    },
    {
     "name": "stdout",
     "output_type": "stream",
     "text": [
      "                            OLS Regression Results                            \n",
      "==============================================================================\n",
      "Dep. Variable:            Life Ladder   R-squared:                       0.002\n",
      "Model:                            OLS   Adj. R-squared:                 -0.089\n",
      "Method:                 Least Squares   F-statistic:                   0.01707\n",
      "Date:                Fri, 28 Feb 2020   Prob (F-statistic):              0.898\n",
      "Time:                        09:38:38   Log-Likelihood:                 3.4329\n",
      "No. Observations:                  13   AIC:                            -2.866\n",
      "Df Residuals:                      11   BIC:                            -1.736\n",
      "Df Model:                           1                                         \n",
      "Covariance Type:            nonrobust                                         \n",
      "====================================================================================\n",
      "                       coef    std err          t      P>|t|      [0.025      0.975]\n",
      "------------------------------------------------------------------------------------\n",
      "const                7.2761      1.302      5.590      0.000       4.411      10.141\n",
      "Delivery Quality    -0.1134      0.868     -0.131      0.898      -2.024       1.797\n",
      "==============================================================================\n",
      "Omnibus:                        0.674   Durbin-Watson:                   1.077\n",
      "Prob(Omnibus):                  0.714   Jarque-Bera (JB):                0.197\n",
      "Skew:                           0.294   Prob(JB):                        0.906\n",
      "Kurtosis:                       2.866   Cond. No.                         50.3\n",
      "==============================================================================\n",
      "\n",
      "Warnings:\n",
      "[1] Standard Errors assume that the covariance matrix of the errors is correctly specified.\n"
     ]
    },
    {
     "data": {
      "text/plain": [
       "<seaborn.axisgrid.FacetGrid at 0x1311263f508>"
      ]
     },
     "execution_count": 15,
     "metadata": {},
     "output_type": "execute_result"
    },
    {
     "data": {
      "image/png": "[encoded data removed]",
      "text/plain": [
       "<Figure size 360x360 with 1 Axes>"
      ]
     },
     "metadata": {
      "needs_background": "light"
     },
     "output_type": "display_data"
    }
   ],
   "source": [
    "dfglobal_usa = DataFrame(dfusa,columns=['Life Ladder','Log GDP per capita','Perceptions of corruption','Confidence in national government', 'Delivery Quality'])\n",
    "X = dfglobal_usa['Delivery Quality']\n",
    "Y = dfglobal_usa['Life Ladder']\n",
    "X = sm.add_constant(X)\n",
    "\n",
    "\n",
    "model = sm.OLS(Y,X).fit()\n",
    "predictions = model.predict(X)\n",
    "\n",
    "print_model = model.summary()\n",
    "print (print_model)\n",
    "\n",
    "sns.lmplot(x='Delivery Quality',y='Life Ladder',data=dfglobal_usa,fit_reg=True)"
   ]
  },
  {
   "cell_type": "code",
   "execution_count": null,
   "metadata": {},
   "outputs": [],
   "source": []
  }
 ],
 "metadata": {
  "kernelspec": {
   "display_name": "Python 3",
   "language": "python",
   "name": "python3"
  },
  "language_info": {
   "codemirror_mode": {
    "name": "ipython",
    "version": 3
   },
   "file_extension": ".py",
   "mimetype": "text/x-python",
   "name": "python",
   "nbconvert_exporter": "python",
   "pygments_lexer": "ipython3",
   "version": "3.7.6"
  }
 },
 "nbformat": 4,
 "nbformat_minor": 4
}
